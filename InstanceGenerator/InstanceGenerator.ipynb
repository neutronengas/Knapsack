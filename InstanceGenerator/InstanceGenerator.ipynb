{
 "cells": [
  {
   "cell_type": "code",
   "execution_count": null,
   "metadata": {},
   "outputs": [],
   "source": [
    "import numpy as np"
   ]
  },
  {
   "cell_type": "code",
   "execution_count": 1,
   "metadata": {},
   "outputs": [],
   "source": [
    "SEED = 123"
   ]
  },
  {
   "cell_type": "code",
   "execution_count": 1,
   "metadata": {},
   "outputs": [],
   "source": [
    "#Orientierung an \n",
    "def create_instance(type, n, R, H=100):\n",
    "    types = [\"uncor\", \"weak_cor\", \"strong_cor\", \"inv_str\", \"alm_str\", \"subset\", \"sim_weights\"]\n",
    "    if type not in types:\n",
    "        print(\"Eine der folgenden Parameter auswählen:\")\n",
    "        print(types)\n",
    "        return\n",
    "    rd_state = np.random.RandomState(seed=SEED)\n",
    "    weights = [rd_state.randint(1, R+1) for _ in range(n)]\n",
    "    if type == \"uncor\":\n",
    "        profits = [rd_state.randint(1, R+1) for _ in range(n)]\n",
    "    elif type == \"weak_cor\":\n",
    "        profits = [max(rd_state.randint(int(w - R / 10), int(w + R / 10) + 1), 1) for w in weights]\n",
    "    elif type == \"strong_cor\":\n",
    "        profits = [int(w + R / 10) for w in weights]\n",
    "    elif type == \"inv_str\":\n",
    "        profits = [w for w in weights]\n",
    "        weights = [int(p + R / 10) for p in profits]\n",
    "    elif type == \"alm_str\":\n",
    "        profits = [max(rd_state.randint(int(w + R / 10 - R / 500), int(w + R / 10 + R / 500) + 1), 1) for w in weights]\n",
    "    else:\n",
    "        weights = [rd_state.randint(1e5, 1e5 + 1e2) for _ in range(n)]\n",
    "    max_weight = [(h / (H + 1) * sum(weights)) for h in range(H + 1)]\n",
    "    return profits, weights, max_weight\n"
   ]
  },
  {
   "cell_type": "code",
   "execution_count": 3,
   "metadata": {},
   "outputs": [
    {
     "data": {
      "text/plain": [
       "100000.0"
      ]
     },
     "execution_count": 3,
     "metadata": {},
     "output_type": "execute_result"
    }
   ],
   "source": [
    "create_instance(\"uncor\", 10, 1000)"
   ]
  }
 ],
 "metadata": {
  "interpreter": {
   "hash": "3199fd9fa0d70b4ea7da8f2372106bdfd9ce1ab2bbec4f2f5e58969a21511f0a"
  },
  "kernelspec": {
   "display_name": "Python 3.9.7 64-bit ('ml_env': conda)",
   "language": "python",
   "name": "python3"
  },
  "language_info": {
   "codemirror_mode": {
    "name": "ipython",
    "version": 3
   },
   "file_extension": ".py",
   "mimetype": "text/x-python",
   "name": "python",
   "nbconvert_exporter": "python",
   "pygments_lexer": "ipython3",
   "version": "3.9.7"
  },
  "orig_nbformat": 4
 },
 "nbformat": 4,
 "nbformat_minor": 2
}
