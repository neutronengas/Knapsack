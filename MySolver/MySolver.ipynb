{
 "cells": [
  {
   "cell_type": "code",
   "execution_count": 1,
   "metadata": {},
   "outputs": [],
   "source": [
    "import numpy as np\n",
    "import copy\n",
    "from qiskit import QuantumCircuit, QuantumRegister, ClassicalRegister, transpile\n",
    "from qiskit import BasicAer\n",
    "from qiskit.quantum_info import Statevector\n",
    "from qiskit.providers.aer import AerSimulator\n",
    "from qiskit.visualization import plot_state_qsphere\n",
    "from scipy.optimize import minimize\n",
    "import seaborn\n",
    "import time"
   ]
  },
  {
   "cell_type": "code",
   "execution_count": 3,
   "metadata": {},
   "outputs": [],
   "source": [
    "class Gate(object):\n",
    "    def __init__(self, n_qubits):\n",
    "        self.n_qubits = n_qubits\n",
    "        self.qubits = QuantumRegister(self.n_qubits)\n",
    "        self.circuit = QuantumCircuit(self.qubits)"
   ]
  },
  {
   "cell_type": "code",
   "execution_count": 137,
   "metadata": {},
   "outputs": [],
   "source": [
    "class MixingGate(Gate):\n",
    "    def __init__(self, n_qubits):\n",
    "        super().__init__(n_qubits)\n",
    "        \n",
    "    def create_ghz_state(self):\n",
    "        self.circuit.x(self.n_qubits - 1)\n",
    "        for k in range(1, self.n_qubits):\n",
    "            theta_k = np.arccos(np.sqrt(1 / (self.n_qubits - k + 1)))\n",
    "            self.circuit.ry(-theta_k, k)\n",
    "            self.circuit.cz(k - 1, k)\n",
    "            self.circuit.ry(theta_k, k)\n",
    "        for k in range(1, self.n_qubits - 1):\n",
    "            self.circuit.cnot(k, k - 1)\n",
    "        print(self.circuit)\n",
    "        return self.circuit.copy()"
   ]
  },
  {
   "cell_type": "code",
   "execution_count": 138,
   "metadata": {},
   "outputs": [
    {
     "name": "stdout",
     "output_type": "stream",
     "text": [
      "                                                         ┌───┐   \n",
      "q164_0: ─────────────────────■───────────────────────────┤ X ├───\n",
      "        ┌──────────────┐     │      ┌─────────────┐      └─┬─┘   \n",
      "q164_1: ┤ Ry(-0.95532) ├─────■──────┤ Ry(0.95532) ├─■──────■─────\n",
      "        └────┬───┬─────┘┌──────────┐└─────────────┘ │ ┌─────────┐\n",
      "q164_2: ─────┤ X ├──────┤ Ry(-π/4) ├────────────────■─┤ Ry(π/4) ├\n",
      "             └───┘      └──────────┘                  └─────────┘\n"
     ]
    },
    {
     "data": {
      "text/latex": [
       "$$ |100\\rangle$$"
      ],
      "text/plain": [
       "<IPython.core.display.Latex object>"
      ]
     },
     "execution_count": 138,
     "metadata": {},
     "output_type": "execute_result"
    }
   ],
   "source": [
    "mg = MixingGate(3)\n",
    "Statevector.from_int(0, 2 ** 3).evolve(mg.create_ghz_state()).draw(\"latex\")"
   ]
  },
  {
   "cell_type": "code",
   "execution_count": null,
   "metadata": {},
   "outputs": [],
   "source": []
  }
 ],
 "metadata": {
  "interpreter": {
   "hash": "3199fd9fa0d70b4ea7da8f2372106bdfd9ce1ab2bbec4f2f5e58969a21511f0a"
  },
  "kernelspec": {
   "display_name": "Python 3.9.7 64-bit ('ml_env': conda)",
   "language": "python",
   "name": "python3"
  },
  "language_info": {
   "codemirror_mode": {
    "name": "ipython",
    "version": 3
   },
   "file_extension": ".py",
   "mimetype": "text/x-python",
   "name": "python",
   "nbconvert_exporter": "python",
   "pygments_lexer": "ipython3",
   "version": "3.9.7"
  },
  "orig_nbformat": 4
 },
 "nbformat": 4,
 "nbformat_minor": 2
}
