{
 "cells": [
  {
   "cell_type": "code",
   "execution_count": 3,
   "metadata": {},
   "outputs": [],
   "source": [
    "import numpy as np"
   ]
  },
  {
   "cell_type": "code",
   "execution_count": 35,
   "metadata": {},
   "outputs": [],
   "source": [
    "def dynamic_programming(profits, weights, max_weight):\n",
    "    R = np.zeros((len(profits) + 1, max_weight + 1))\n",
    "    for i in range(1, len(profits) + 1):\n",
    "        for j in range(1, max_weight + 1):\n",
    "            if weights[i - 1] <= j:\n",
    "                R[i][j] = max(profits[i - 1] + R[i - 1][j - weights[i - 1]], R[i - 1][j])\n",
    "            else:\n",
    "                R[i][j] = R[i - 1][j]\n",
    "    return R[len(profits)][max_weight]"
   ]
  },
  {
   "cell_type": "code",
   "execution_count": 2,
   "metadata": {},
   "outputs": [],
   "source": [
    "def dynamic_programming(items, max_weight):\n",
    "    profits = [item.profits for item in items]\n",
    "    weights = [item.weight for item in items]\n",
    "    R = np.zeros((len(profits) + 1, max_weight + 1))\n",
    "    for i in range(1, len(profits) + 1):\n",
    "        for j in range(1, max_weight + 1):\n",
    "            if weights[i - 1] <= j:\n",
    "                R[i][j] = max(profits[i - 1] + R[i - 1][j - weights[i - 1]], R[i - 1][j])\n",
    "            else:\n",
    "                R[i][j] = R[i - 1][j]\n",
    "    return R[len(profits)][max_weight]"
   ]
  },
  {
   "cell_type": "code",
   "execution_count": 1,
   "metadata": {},
   "outputs": [],
   "source": [
    "def lazy_greedy(profits, weights, max_weight):\n",
    "    items = [[i, profits[i], weights[i], profits[i] / weights[i], 0] for i in range(len(profits))]\n",
    "    items.sort(key=(lambda x: x[3]), reverse=True)\n",
    "    total_weight = 0\n",
    "    r_stop = None\n",
    "    for item in items:\n",
    "        if total_weight + item[2] <= max_weight:\n",
    "            total_weight += item[2]\n",
    "            item[-1] = 1\n",
    "        else:\n",
    "            r_stop = item[3] if r_stop is None else r_stop\n",
    "    items.sort(key=(lambda x: x[0]))\n",
    "    return [i[-1] for i in items], r_stop"
   ]
  },
  {
   "cell_type": "code",
   "execution_count": 36,
   "metadata": {},
   "outputs": [
    {
     "data": {
      "text/plain": [
       "45.0"
      ]
     },
     "execution_count": 36,
     "metadata": {},
     "output_type": "execute_result"
    }
   ],
   "source": [
    "profits = [i for i in range(10)]\n",
    "weights = [i for i in range(10)]\n",
    "max_weight = sum(weights)\n",
    "dynamic_programming(profits, weights, max_weight)"
   ]
  }
 ],
 "metadata": {
  "interpreter": {
   "hash": "3199fd9fa0d70b4ea7da8f2372106bdfd9ce1ab2bbec4f2f5e58969a21511f0a"
  },
  "kernelspec": {
   "display_name": "Python 3.9.7 64-bit ('ml_env': conda)",
   "language": "python",
   "name": "python3"
  },
  "language_info": {
   "codemirror_mode": {
    "name": "ipython",
    "version": 3
   },
   "file_extension": ".py",
   "mimetype": "text/x-python",
   "name": "python",
   "nbconvert_exporter": "python",
   "pygments_lexer": "ipython3",
   "version": "3.9.7"
  },
  "orig_nbformat": 4
 },
 "nbformat": 4,
 "nbformat_minor": 2
}
