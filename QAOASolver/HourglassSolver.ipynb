{
 "cells": [
  {
   "cell_type": "code",
   "execution_count": 9,
   "metadata": {},
   "outputs": [],
   "source": [
    "import numpy as np\n",
    "from qiskit import QuantumCircuit, QuantumRegister, ClassicalRegister, transpile\n",
    "from qiskit import BasicAer\n",
    "from scipy.optimize import minimize"
   ]
  },
  {
   "cell_type": "code",
   "execution_count": 62,
   "metadata": {},
   "outputs": [],
   "source": [
    "def hourglass_solver(profits, weights, probs, max_weight, p_total):\n",
    "    theta_s = [2 * np.arccos(np.sqrt(1 - p)) for p in probs]\n",
    "    \n",
    "    def expectation_value(params):\n",
    "        p = len(params) // 2\n",
    "        beta_s = params[:p]\n",
    "        gamma_s = params[p:]\n",
    "        n_qubits = len(profits)\n",
    "        p_total = len(beta_s)\n",
    "        qubits = QuantumRegister(n_qubits)\n",
    "        bits = ClassicalRegister(n_qubits)\n",
    "        circuit = QuantumCircuit(qubits, bits)\n",
    "        \n",
    "        # Qubits initialisieren \n",
    "        for i in range(n_qubits):\n",
    "            circuit.p(theta_s[i], qubits[i])\n",
    "\n",
    "        # QAOA anwenden    \n",
    "        for p in range(p_total):\n",
    "            for i in range(n_qubits):\n",
    "                circuit.rz(gamma_s[p] * weights[i] * 2, qubits[i])\n",
    "            for i in range(n_qubits):\n",
    "                phi = 2 * np.arcsin(np.sqrt(probs[i]))\n",
    "                circuit.rz(np.pi, qubits[i])\n",
    "                circuit.ry(np.pi - phi, qubits[i])\n",
    "                circuit.rz(2 * beta_s[p], qubits[i])\n",
    "                circuit.ry(phi, qubits[i])\n",
    "\n",
    "        # Finalen Zustand messen\n",
    "        for i in range(n_qubits):\n",
    "            circuit.measure(qubits[i], bits[i])\n",
    "        backend = BasicAer.get_backend(\"qasm_simulator\")\n",
    "        job = backend.run(transpile(circuit, backend), shots=n_qubits)\n",
    "        results = job.result().get_counts(circuit)\n",
    "        outcomes = list(process_outcomes(results, profits, weights, max_weight))\n",
    "        res = max(outcomes, key=lambda x: x[1])\n",
    "        return -1 * res[1]\n",
    "\n",
    "    params = [1.0 for _ in range(2 * p_total)]\n",
    "\n",
    "    res = minimize(expectation_value, params, method=\"COBYLA\")\n",
    "    \n",
    "    return res"
   ]
  },
  {
   "cell_type": "code",
   "execution_count": 63,
   "metadata": {},
   "outputs": [],
   "source": [
    "def process_outcomes(result_dict, profits, weights, max_weight):\n",
    "    def bitstring_to_bitint(bitstring):\n",
    "            return np.array([int(c) for c in bitstring])\n",
    "    outcome_bits = [bitstring_to_bitint(o) for o in list(result_dict.keys())]\n",
    "    outcomes = [(o * np.array(profits)).sum() * int((o * np.array(weights)).sum() <= max_weight) for o in outcome_bits]\n",
    "    return zip(list(result_dict.keys()), outcomes)"
   ]
  },
  {
   "cell_type": "code",
   "execution_count": 66,
   "metadata": {},
   "outputs": [
    {
     "data": {
      "text/plain": [
       "     fun: -24.0\n",
       "   maxcv: 0.0\n",
       " message: 'Optimization terminated successfully.'\n",
       "    nfev: 32\n",
       "  status: 1\n",
       " success: True\n",
       "       x: array([1.98723778, 0.26253391, 1.00182317, 1.25      ])"
      ]
     },
     "execution_count": 66,
     "metadata": {},
     "output_type": "execute_result"
    }
   ],
   "source": [
    "profits = [1.0 for _ in range(24)]\n",
    "weights = [1.0 for _ in range(24)]\n",
    "max_weight = 24\n",
    "p_total = 2\n",
    "probs = [0.5 for _ in range(24)]\n",
    "hourglass_solver(profits, weights, probs, max_weight, p_total)"
   ]
  },
  {
   "cell_type": "code",
   "execution_count": null,
   "metadata": {},
   "outputs": [],
   "source": []
  }
 ],
 "metadata": {
  "interpreter": {
   "hash": "3199fd9fa0d70b4ea7da8f2372106bdfd9ce1ab2bbec4f2f5e58969a21511f0a"
  },
  "kernelspec": {
   "display_name": "Python 3.9.7 64-bit ('ml_env': conda)",
   "language": "python",
   "name": "python3"
  },
  "language_info": {
   "codemirror_mode": {
    "name": "ipython",
    "version": 3
   },
   "file_extension": ".py",
   "mimetype": "text/x-python",
   "name": "python",
   "nbconvert_exporter": "python",
   "pygments_lexer": "ipython3",
   "version": "3.9.7"
  },
  "orig_nbformat": 4
 },
 "nbformat": 4,
 "nbformat_minor": 2
}
