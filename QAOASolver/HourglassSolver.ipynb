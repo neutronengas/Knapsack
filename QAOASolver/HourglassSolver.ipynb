{
 "cells": [
  {
   "cell_type": "code",
   "execution_count": 29,
   "metadata": {},
   "outputs": [],
   "source": [
    "import numpy as np\n",
    "from qiskit import QuantumCircuit, QuantumRegister, ClassicalRegister, transpile\n",
    "from qiskit import BasicAer\n",
    "from scipy.optimize import minimize\n",
    "from qiskit.quantum_info import Statevector"
   ]
  },
  {
   "cell_type": "code",
   "execution_count": 34,
   "metadata": {},
   "outputs": [],
   "source": [
    "def hourglass_solver(profits, weights, probs, max_weight, p_total):\n",
    "    init_s = [2 * np.arccos(np.sqrt(1 - p)) for p in probs]\n",
    "    \n",
    "    def expectation_value(params):\n",
    "        p = len(params) // 2\n",
    "        beta_s = params[:p]\n",
    "        gamma_s = params[p:]\n",
    "        n_qubits = len(profits)\n",
    "        p_total = len(beta_s)\n",
    "        qubits = QuantumRegister(n_qubits)\n",
    "        bits = ClassicalRegister(n_qubits)\n",
    "        circuit = QuantumCircuit(qubits, bits)\n",
    "        \n",
    "        # Qubits initialisieren \n",
    "        for i in range(n_qubits):\n",
    "            \n",
    "            circuit.p(init_s[i], qubits[i])\n",
    "\n",
    "        # QAOA anwenden    \n",
    "        for p in range(p_total):\n",
    "            for i in range(n_qubits):\n",
    "                circuit.rz(gamma_s[p] * weights[i] * 2, qubits[i])\n",
    "            for i in range(n_qubits):\n",
    "                phi = 2 * np.arcsin(np.sqrt(probs[i]))\n",
    "                circuit.ry(phi, qubits[i]).inverse()\n",
    "                circuit.rz(2 * beta_s[p], qubits[i])\n",
    "                circuit.ry(phi, qubits[i])\n",
    "\n",
    "        test_state = Statevector.from_int(0, 2 ** n_qubits)\n",
    "        print(test_state.evolve(circuit).draw())\n",
    "\n",
    "        # Finalen Zustand messen\n",
    "        for i in range(n_qubits):\n",
    "            circuit.measure(qubits[i], bits[i])\n",
    "        backend = BasicAer.get_backend(\"qasm_simulator\")\n",
    "        job = backend.run(transpile(circuit, backend), shots=100)\n",
    "        results = job.result().get_counts(circuit)\n",
    "        outcomes = list(process_outcomes(results, profits, weights, max_weight))\n",
    "        res = min(outcomes)\n",
    "        return res\n",
    "\n",
    "\n",
    "    params = [1.0 for _ in range(2 * p_total)]\n",
    "\n",
    "    res = minimize(expectation_value, params, method=\"COBYLA\")\n",
    "    \n",
    "    return res"
   ]
  },
  {
   "cell_type": "code",
   "execution_count": 35,
   "metadata": {},
   "outputs": [],
   "source": [
    "def process_outcomes(result_dict, profits, weights, max_weight):\n",
    "    def bitstring_to_bitint(bitstring):\n",
    "            return np.array([int(c) for c in bitstring])\n",
    "    outcome_bits = [bitstring_to_bitint(o) for o in list(result_dict.keys())]\n",
    "    outcomes = -1 * np.array([(o * np.array(profits)).sum() * int((o * np.array(weights)).sum() <= max_weight) for o in outcome_bits])\n",
    "    return outcomes"
   ]
  },
  {
   "cell_type": "code",
   "execution_count": 37,
   "metadata": {},
   "outputs": [
    {
     "name": "stdout",
     "output_type": "stream",
     "text": [
      "Statevector([ 0.08408258-0.58986053j,  0.37874509+0.0539888j ,\n",
      "              0.37874509+0.0539888j , -0.03466581+0.24318943j,\n",
      "              0.37874509+0.0539888j , -0.03466581+0.24318943j,\n",
      "             -0.03466581+0.24318943j, -0.15615014-0.02225866j],\n",
      "            dims=(2, 2, 2))\n",
      "Statevector([ 0.10609782-0.74430303j, -0.34063591-0.04855647j,\n",
      "             -0.34063591-0.04855647j, -0.02222224+0.1558946j ,\n",
      "             -0.34063591-0.04855647j, -0.02222224+0.1558946j ,\n",
      "             -0.02222224+0.1558946j ,  0.07134634+0.01017017j],\n",
      "            dims=(2, 2, 2))\n",
      "Statevector([-0.16648225+0.57209177j, -0.3673359 -0.10689702j,\n",
      "             -0.3673359 -0.10689702j,  0.06863779-0.23586367j,\n",
      "             -0.3673359 -0.10689702j,  0.06863779-0.23586367j,\n",
      "              0.06863779-0.23586367j,  0.15144632+0.04407182j],\n",
      "            dims=(2, 2, 2))\n",
      "Statevector([ 0.10365605-0.7271734j ,  0.34750233+0.04953526j,\n",
      "              0.34750233+0.04953526j, -0.02367196+0.16606475j,\n",
      "              0.34750233+0.04953526j, -0.02367196+0.16606475j,\n",
      "             -0.02367196+0.16606475j, -0.07935919-0.01131238j],\n",
      "            dims=(2, 2, 2))\n",
      "Statevector([-0.13781023-0.57966686j,  0.37219981-0.08848693j,\n",
      "              0.37219981-0.08848693j,  0.0568168 +0.23898675j,\n",
      "              0.37219981-0.08848693j,  0.0568168 +0.23898675j,\n",
      "              0.0568168 +0.23898675j, -0.15345163+0.03648165j],\n",
      "            dims=(2, 2, 2))\n",
      "Statevector([ 0.08660727-0.60757185j,  0.37684226+0.05371756j,\n",
      "              0.37684226+0.05371756j, -0.03331795+0.23373382j,\n",
      "              0.37684226+0.05371756j, -0.03331795+0.23373382j,\n",
      "             -0.03331795+0.23373382j, -0.1449718 -0.02066523j],\n",
      "            dims=(2, 2, 2))\n",
      "Statevector([ 0.05635063-0.59315254j,  0.38085887+0.03618233j,\n",
      "              0.38085887+0.03618233j, -0.0232324 +0.24454667j,\n",
      "              0.38085887+0.03618233j, -0.0232324 +0.24454667j,\n",
      "             -0.0232324 +0.24454667j, -0.15702161-0.01491736j],\n",
      "            dims=(2, 2, 2))\n",
      "Statevector([ 0.08439883-0.59207914j,  0.37853852+0.05395936j,\n",
      "              0.37853852+0.05395936j, -0.03449825+0.24201395j,\n",
      "              0.37853852+0.05395936j, -0.03449825+0.24201395j,\n",
      "             -0.03449825+0.24201395j, -0.15472864-0.02205603j],\n",
      "            dims=(2, 2, 2))\n",
      "Statevector([ 0.08062494-0.59034308j,  0.37905493+0.05176868j,\n",
      "              0.37905493+0.05176868j, -0.03324029+0.24338837j,\n",
      "              0.37905493+0.05176868j, -0.03324029+0.24338837j,\n",
      "             -0.03324029+0.24338837j, -0.15627788-0.02134334j],\n",
      "            dims=(2, 2, 2))\n",
      "Statevector([ 0.08412212-0.59013793j,  0.37871976+0.05398519j,\n",
      "              0.37871976+0.05398519j, -0.03464488+0.2430426j ,\n",
      "              0.37871976+0.05398519j, -0.03464488+0.2430426j ,\n",
      "             -0.03464488+0.2430426j , -0.15597207-0.02223328j],\n",
      "            dims=(2, 2, 2))\n",
      "Statevector([ 0.08365053-0.58992196j,  0.37878453+0.05371139j,\n",
      "              0.37878453+0.05371139j, -0.03448769+0.24321475j,\n",
      "              0.37878453+0.05371139j, -0.03448769+0.24321475j,\n",
      "             -0.03448769+0.24321475j, -0.1561664 -0.02214429j],\n",
      "            dims=(2, 2, 2))\n",
      "Statevector([ 0.08409068-0.58991734j,  0.37873992+0.05398807j,\n",
      "              0.37873992+0.05398807j, -0.03466153+0.24315936j,\n",
      "              0.37873992+0.05398807j, -0.03466153+0.24315936j,\n",
      "             -0.03466153+0.24315936j, -0.15611366-0.02225346j],\n",
      "            dims=(2, 2, 2))\n",
      "Statevector([ 0.0839941 -0.58987314j,  0.37875319+0.05393199j,\n",
      "              0.37875319+0.05393199j, -0.03462933+0.24319462j,\n",
      "              0.37875319+0.05393199j, -0.03462933+0.24319462j,\n",
      "             -0.03462933+0.24319462j, -0.15615347-0.02223524j],\n",
      "            dims=(2, 2, 2))\n"
     ]
    },
    {
     "data": {
      "text/plain": [
       "     fun: -3.0\n",
       "   maxcv: 0.0\n",
       " message: 'Optimization terminated successfully.'\n",
       "    nfev: 13\n",
       "  status: 1\n",
       " success: True\n",
       "       x: array([1., 1.])"
      ]
     },
     "execution_count": 37,
     "metadata": {},
     "output_type": "execute_result"
    }
   ],
   "source": [
    "n_qubits = 3\n",
    "profits = [i for i in range(n_qubits)]\n",
    "weights = [i for i in range(n_qubits)]\n",
    "max_weight = sum(weights)\n",
    "p_total = 1\n",
    "probs = [0.5 for _ in range(n_qubits)]\n",
    "\n",
    "hourglass_solver(profits, weights, probs, max_weight, p_total)"
   ]
  },
  {
   "cell_type": "code",
   "execution_count": null,
   "metadata": {},
   "outputs": [],
   "source": []
  }
 ],
 "metadata": {
  "interpreter": {
   "hash": "3199fd9fa0d70b4ea7da8f2372106bdfd9ce1ab2bbec4f2f5e58969a21511f0a"
  },
  "kernelspec": {
   "display_name": "Python 3.9.7 64-bit ('ml_env': conda)",
   "language": "python",
   "name": "python3"
  },
  "language_info": {
   "codemirror_mode": {
    "name": "ipython",
    "version": 3
   },
   "file_extension": ".py",
   "mimetype": "text/x-python",
   "name": "python",
   "nbconvert_exporter": "python",
   "pygments_lexer": "ipython3",
   "version": "3.9.7"
  },
  "orig_nbformat": 4
 },
 "nbformat": 4,
 "nbformat_minor": 2
}
