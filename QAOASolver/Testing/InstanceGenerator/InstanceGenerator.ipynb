{
 "cells": [
  {
   "cell_type": "code",
   "execution_count": 3,
   "metadata": {},
   "outputs": [],
   "source": [
    "import numpy as np"
   ]
  },
  {
   "cell_type": "code",
   "execution_count": 4,
   "metadata": {},
   "outputs": [],
   "source": [
    "SEED = 123"
   ]
  },
  {
   "cell_type": "code",
   "execution_count": 5,
   "metadata": {},
   "outputs": [],
   "source": [
    "#Orientierung an \n",
    "def create_instance(type, n, R, H=100):\n",
    "    types = [\"uncor\", \"weak_cor\", \"strong_cor\", \"inv_str\", \"alm_str\", \"profit_distribution\", \"sim_weights\"]\n",
    "    if type not in types:\n",
    "        print(\"Eine der folgenden Parameter auswählen:\")\n",
    "        print(types)\n",
    "        return\n",
    "    rd_state = np.random.RandomState(seed=SEED)\n",
    "    weights = [rd_state.randint(1, R+1) for _ in range(n)]\n",
    "    if type == \"uncor\":\n",
    "        profits = [rd_state.randint(1, R+1) for _ in range(n)]\n",
    "    elif type == \"weak_cor\":\n",
    "        profits = [max(rd_state.randint(int(w - R / 10), int(w + R / 10) + 1), 1) for w in weights]\n",
    "    elif type == \"strong_cor\":\n",
    "        profits = [int(w + R) for w in weights]\n",
    "    elif type == \"inv_str\":\n",
    "        profits = [w for w in weights]\n",
    "        weights = [[p + 98, p + 102][np.random.randint(0, 2)] for p in profits]\n",
    "    elif type == \"alm_str\":\n",
    "        profits = [max(rd_state.randint(int(w + R / 10 - R / 500), int(w + R / 10 + R / 500) + 1), 1) for w in weights]\n",
    "    elif type == \"profit_distribution\":\n",
    "        profits = [3 * int(w / 3) + 1 for w in weights]\n",
    "    elif type == \"strong_spanner\":\n",
    "        old_profits, old_weights, _ = create_instance(\"strong_cor\", 2 * n, R, H)\n",
    "        profits, weights = [], []\n",
    "        for _ in range(n):\n",
    "            index = np.random.randint(0, n)\n",
    "            profits.append(old_profits[index])\n",
    "            weights.append(old_weights[index])\n",
    "        \n",
    "    max_weight = [(h / (H + 1) * sum(weights)) for h in range(H + 1)]\n",
    "    return profits, weights, max_weight\n"
   ]
  },
  {
   "cell_type": "code",
   "execution_count": 9,
   "metadata": {},
   "outputs": [],
   "source": [
    "def create_and_write(type, n, R, H=100):\n",
    "    profits, weights, max_weight = create_instance(type, n, R, H)\n",
    "    with open(\"type={}n={}_input.txt\".format(type, str(n)), \"w\") as f:\n",
    "        f.write(str(profits))\n",
    "        f.write(str(weights))\n",
    "        f.write(str(max_weight))\n",
    "    f.close()"
   ]
  },
  {
   "cell_type": "code",
   "execution_count": 10,
   "metadata": {},
   "outputs": [],
   "source": [
    "create_and_write(\"uncor\", 10, 1000)"
   ]
  },
  {
   "cell_type": "code",
   "execution_count": null,
   "metadata": {},
   "outputs": [],
   "source": []
  }
 ],
 "metadata": {
  "interpreter": {
   "hash": "3199fd9fa0d70b4ea7da8f2372106bdfd9ce1ab2bbec4f2f5e58969a21511f0a"
  },
  "kernelspec": {
   "display_name": "Python 3.9.7 64-bit ('ml_env': conda)",
   "language": "python",
   "name": "python3"
  },
  "language_info": {
   "codemirror_mode": {
    "name": "ipython",
    "version": 3
   },
   "file_extension": ".py",
   "mimetype": "text/x-python",
   "name": "python",
   "nbconvert_exporter": "python",
   "pygments_lexer": "ipython3",
   "version": "3.9.7"
  },
  "orig_nbformat": 4
 },
 "nbformat": 4,
 "nbformat_minor": 2
}
