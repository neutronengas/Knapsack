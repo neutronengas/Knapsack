{
 "cells": [
  {
   "cell_type": "code",
   "execution_count": 12,
   "metadata": {},
   "outputs": [],
   "source": [
    "import pandas as pd\n",
    "import os"
   ]
  },
  {
   "cell_type": "code",
   "execution_count": 14,
   "metadata": {},
   "outputs": [],
   "source": [
    "os.listdir(\"Outcomes\")\n",
    "NAME_LATEST = \"Latest.xlsx\""
   ]
  },
  {
   "cell_type": "code",
   "execution_count": 26,
   "metadata": {},
   "outputs": [
    {
     "data": {
      "text/plain": [
       "Index(['Unnamed: 0', 'Profits', 'Weights', 'Max_Weight', 'Problem type',\n",
       "       'Solving type', 'Init type', 'Quantum Solution', 'Classical Solution',\n",
       "       'Quantum Runtum', 'Classical Runtime', 'Timestamp'],\n",
       "      dtype='object')"
      ]
     },
     "execution_count": 26,
     "metadata": {},
     "output_type": "execute_result"
    }
   ],
   "source": [
    "df = pd.read_excel(\"Outcomes/{}\".format(NAME_LATEST))\n",
    "df.columns\n"
   ]
  },
  {
   "cell_type": "code",
   "execution_count": 31,
   "metadata": {},
   "outputs": [
    {
     "data": {
      "text/html": [
       "<div>\n",
       "<style scoped>\n",
       "    .dataframe tbody tr th:only-of-type {\n",
       "        vertical-align: middle;\n",
       "    }\n",
       "\n",
       "    .dataframe tbody tr th {\n",
       "        vertical-align: top;\n",
       "    }\n",
       "\n",
       "    .dataframe thead tr th {\n",
       "        text-align: left;\n",
       "    }\n",
       "\n",
       "    .dataframe thead tr:last-of-type th {\n",
       "        text-align: right;\n",
       "    }\n",
       "</style>\n",
       "<table border=\"1\" class=\"dataframe\">\n",
       "  <thead>\n",
       "    <tr>\n",
       "      <th></th>\n",
       "      <th colspan=\"2\" halign=\"left\">0</th>\n",
       "    </tr>\n",
       "    <tr>\n",
       "      <th>Solving type</th>\n",
       "      <th>Copula</th>\n",
       "      <th>Hourglass</th>\n",
       "    </tr>\n",
       "    <tr>\n",
       "      <th>Problem type</th>\n",
       "      <th></th>\n",
       "      <th></th>\n",
       "    </tr>\n",
       "  </thead>\n",
       "  <tbody>\n",
       "    <tr>\n",
       "      <th>alm_str</th>\n",
       "      <td>0.989570</td>\n",
       "      <td>0.989018</td>\n",
       "    </tr>\n",
       "    <tr>\n",
       "      <th>inv_str</th>\n",
       "      <td>0.994038</td>\n",
       "      <td>0.991076</td>\n",
       "    </tr>\n",
       "    <tr>\n",
       "      <th>strong_cor</th>\n",
       "      <td>0.988047</td>\n",
       "      <td>0.987068</td>\n",
       "    </tr>\n",
       "    <tr>\n",
       "      <th>subset</th>\n",
       "      <td>0.998873</td>\n",
       "      <td>0.998641</td>\n",
       "    </tr>\n",
       "    <tr>\n",
       "      <th>uncor</th>\n",
       "      <td>0.976351</td>\n",
       "      <td>0.976861</td>\n",
       "    </tr>\n",
       "    <tr>\n",
       "      <th>weak_cor</th>\n",
       "      <td>0.991040</td>\n",
       "      <td>0.988121</td>\n",
       "    </tr>\n",
       "  </tbody>\n",
       "</table>\n",
       "</div>"
      ],
      "text/plain": [
       "                     0          \n",
       "Solving type    Copula Hourglass\n",
       "Problem type                    \n",
       "alm_str       0.989570  0.989018\n",
       "inv_str       0.994038  0.991076\n",
       "strong_cor    0.988047  0.987068\n",
       "subset        0.998873  0.998641\n",
       "uncor         0.976351  0.976861\n",
       "weak_cor      0.991040  0.988121"
      ]
     },
     "execution_count": 31,
     "metadata": {},
     "output_type": "execute_result"
    }
   ],
   "source": [
    "def func(x):\n",
    "    return (x[\"Quantum Solution\"] / x[\"Classical Solution\"]).mean()\n",
    "\n",
    "pd.DataFrame(df.groupby([\"Problem type\", \"Solving type\"]).apply(lambda x: func(x))).unstack()"
   ]
  },
  {
   "cell_type": "code",
   "execution_count": null,
   "metadata": {},
   "outputs": [],
   "source": []
  },
  {
   "cell_type": "code",
   "execution_count": null,
   "metadata": {},
   "outputs": [],
   "source": []
  }
 ],
 "metadata": {
  "interpreter": {
   "hash": "3199fd9fa0d70b4ea7da8f2372106bdfd9ce1ab2bbec4f2f5e58969a21511f0a"
  },
  "kernelspec": {
   "display_name": "Python 3.9.7 64-bit ('ml_env': conda)",
   "language": "python",
   "name": "python3"
  },
  "language_info": {
   "codemirror_mode": {
    "name": "ipython",
    "version": 3
   },
   "file_extension": ".py",
   "mimetype": "text/x-python",
   "name": "python",
   "nbconvert_exporter": "python",
   "pygments_lexer": "ipython3",
   "version": "3.9.7"
  },
  "orig_nbformat": 4
 },
 "nbformat": 4,
 "nbformat_minor": 2
}
